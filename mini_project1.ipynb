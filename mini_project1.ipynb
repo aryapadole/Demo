{
  "nbformat": 4,
  "nbformat_minor": 0,
  "metadata": {
    "colab": {
      "provenance": []
    },
    "kernelspec": {
      "name": "python3",
      "display_name": "Python 3"
    },
    "language_info": {
      "name": "python"
    }
  },
  "cells": [
    {
      "cell_type": "code",
      "execution_count": null,
      "metadata": {
        "colab": {
          "base_uri": "https://localhost:8080/",
          "height": 661
        },
        "id": "02fv5Do1xP7C",
        "outputId": "7b7483bd-3f17-4879-960d-2ae68540a07a"
      },
      "outputs": [
        {
          "output_type": "execute_result",
          "data": {
            "text/plain": [
              "      id               name               nationality                 city  \\\n",
              "0      0          Kiana Lor                     China               Suzhou   \n",
              "1      1     Joshua Lonaker  United States of America        Santa Clarita   \n",
              "2      2      Dakota Blanco  United States of America              Oakland   \n",
              "3      3    Natasha Yarusso  United States of America        Castro Valley   \n",
              "4      4     Brooke Cazares                    Brazil  São José dos Campos   \n",
              "..   ...                ...                       ...                  ...   \n",
              "302  302        Austin Haas  United States of America             Columbus   \n",
              "303  303    Madison Fithian  United States of America          Los Angeles   \n",
              "304  304  Zachary Mulvahill  United States of America          Los Angeles   \n",
              "305  305   Eliana Michelsen  United States of America              Oakland   \n",
              "306  306    Dane Whittemore                    Canada              Toronto   \n",
              "\n",
              "     latitude  longitude gender  ethnic.group  age  english.grade  math.grade  \\\n",
              "0       31.31     120.62      F           NaN   22            3.5         3.7   \n",
              "1       34.39    -118.54      M           NaN   22            2.9         3.2   \n",
              "2       37.80    -122.27      F           NaN   22            3.9         3.8   \n",
              "3       37.69    -122.09      F           NaN   20            3.3         2.8   \n",
              "4      -23.18     -45.88      F           NaN   21            3.7         2.6   \n",
              "..        ...        ...    ...           ...  ...            ...         ...   \n",
              "302     39.96     -83.00      M           NaN   20            3.6         3.7   \n",
              "303     34.05    -118.24      F           NaN   20            3.6         3.9   \n",
              "304     34.05    -118.24      M           NaN   20            3.2         3.4   \n",
              "305     37.80    -122.27      F           NaN   23            3.0         2.8   \n",
              "306     43.67     -79.42      M           NaN   21            3.8         3.2   \n",
              "\n",
              "     sciences.grade  language.grade  portfolio.rating  coverletter.rating  \\\n",
              "0               3.1             1.0                 4                 4.0   \n",
              "1               3.6             5.0                 5                 4.0   \n",
              "2               3.2             5.0                 3                 3.0   \n",
              "3               3.2             5.0                 5                 2.0   \n",
              "4               3.4             1.0                 4                 4.0   \n",
              "..              ...             ...               ...                 ...   \n",
              "302             3.1             5.0                 4                 5.0   \n",
              "303             4.0             5.0                 5                 5.0   \n",
              "304             3.9             5.0                 5                 5.0   \n",
              "305             2.9             5.0                 4                 4.0   \n",
              "306             4.0             5.0                 5                 4.0   \n",
              "\n",
              "     refletter.rating  \n",
              "0                   4  \n",
              "1                   5  \n",
              "2                   4  \n",
              "3                   4  \n",
              "4                   5  \n",
              "..                ...  \n",
              "302                 5  \n",
              "303                 3  \n",
              "304                 3  \n",
              "305                 5  \n",
              "306                 5  \n",
              "\n",
              "[307 rows x 16 columns]"
            ],
            "text/html": [
              "\n",
              "  <div id=\"df-fa08e7cb-d757-4660-9de8-65562a8934c8\">\n",
              "    <div class=\"colab-df-container\">\n",
              "      <div>\n",
              "<style scoped>\n",
              "    .dataframe tbody tr th:only-of-type {\n",
              "        vertical-align: middle;\n",
              "    }\n",
              "\n",
              "    .dataframe tbody tr th {\n",
              "        vertical-align: top;\n",
              "    }\n",
              "\n",
              "    .dataframe thead th {\n",
              "        text-align: right;\n",
              "    }\n",
              "</style>\n",
              "<table border=\"1\" class=\"dataframe\">\n",
              "  <thead>\n",
              "    <tr style=\"text-align: right;\">\n",
              "      <th></th>\n",
              "      <th>id</th>\n",
              "      <th>name</th>\n",
              "      <th>nationality</th>\n",
              "      <th>city</th>\n",
              "      <th>latitude</th>\n",
              "      <th>longitude</th>\n",
              "      <th>gender</th>\n",
              "      <th>ethnic.group</th>\n",
              "      <th>age</th>\n",
              "      <th>english.grade</th>\n",
              "      <th>math.grade</th>\n",
              "      <th>sciences.grade</th>\n",
              "      <th>language.grade</th>\n",
              "      <th>portfolio.rating</th>\n",
              "      <th>coverletter.rating</th>\n",
              "      <th>refletter.rating</th>\n",
              "    </tr>\n",
              "  </thead>\n",
              "  <tbody>\n",
              "    <tr>\n",
              "      <th>0</th>\n",
              "      <td>0</td>\n",
              "      <td>Kiana Lor</td>\n",
              "      <td>China</td>\n",
              "      <td>Suzhou</td>\n",
              "      <td>31.31</td>\n",
              "      <td>120.62</td>\n",
              "      <td>F</td>\n",
              "      <td>NaN</td>\n",
              "      <td>22</td>\n",
              "      <td>3.5</td>\n",
              "      <td>3.7</td>\n",
              "      <td>3.1</td>\n",
              "      <td>1.0</td>\n",
              "      <td>4</td>\n",
              "      <td>4.0</td>\n",
              "      <td>4</td>\n",
              "    </tr>\n",
              "    <tr>\n",
              "      <th>1</th>\n",
              "      <td>1</td>\n",
              "      <td>Joshua Lonaker</td>\n",
              "      <td>United States of America</td>\n",
              "      <td>Santa Clarita</td>\n",
              "      <td>34.39</td>\n",
              "      <td>-118.54</td>\n",
              "      <td>M</td>\n",
              "      <td>NaN</td>\n",
              "      <td>22</td>\n",
              "      <td>2.9</td>\n",
              "      <td>3.2</td>\n",
              "      <td>3.6</td>\n",
              "      <td>5.0</td>\n",
              "      <td>5</td>\n",
              "      <td>4.0</td>\n",
              "      <td>5</td>\n",
              "    </tr>\n",
              "    <tr>\n",
              "      <th>2</th>\n",
              "      <td>2</td>\n",
              "      <td>Dakota Blanco</td>\n",
              "      <td>United States of America</td>\n",
              "      <td>Oakland</td>\n",
              "      <td>37.80</td>\n",
              "      <td>-122.27</td>\n",
              "      <td>F</td>\n",
              "      <td>NaN</td>\n",
              "      <td>22</td>\n",
              "      <td>3.9</td>\n",
              "      <td>3.8</td>\n",
              "      <td>3.2</td>\n",
              "      <td>5.0</td>\n",
              "      <td>3</td>\n",
              "      <td>3.0</td>\n",
              "      <td>4</td>\n",
              "    </tr>\n",
              "    <tr>\n",
              "      <th>3</th>\n",
              "      <td>3</td>\n",
              "      <td>Natasha Yarusso</td>\n",
              "      <td>United States of America</td>\n",
              "      <td>Castro Valley</td>\n",
              "      <td>37.69</td>\n",
              "      <td>-122.09</td>\n",
              "      <td>F</td>\n",
              "      <td>NaN</td>\n",
              "      <td>20</td>\n",
              "      <td>3.3</td>\n",
              "      <td>2.8</td>\n",
              "      <td>3.2</td>\n",
              "      <td>5.0</td>\n",
              "      <td>5</td>\n",
              "      <td>2.0</td>\n",
              "      <td>4</td>\n",
              "    </tr>\n",
              "    <tr>\n",
              "      <th>4</th>\n",
              "      <td>4</td>\n",
              "      <td>Brooke Cazares</td>\n",
              "      <td>Brazil</td>\n",
              "      <td>São José dos Campos</td>\n",
              "      <td>-23.18</td>\n",
              "      <td>-45.88</td>\n",
              "      <td>F</td>\n",
              "      <td>NaN</td>\n",
              "      <td>21</td>\n",
              "      <td>3.7</td>\n",
              "      <td>2.6</td>\n",
              "      <td>3.4</td>\n",
              "      <td>1.0</td>\n",
              "      <td>4</td>\n",
              "      <td>4.0</td>\n",
              "      <td>5</td>\n",
              "    </tr>\n",
              "    <tr>\n",
              "      <th>...</th>\n",
              "      <td>...</td>\n",
              "      <td>...</td>\n",
              "      <td>...</td>\n",
              "      <td>...</td>\n",
              "      <td>...</td>\n",
              "      <td>...</td>\n",
              "      <td>...</td>\n",
              "      <td>...</td>\n",
              "      <td>...</td>\n",
              "      <td>...</td>\n",
              "      <td>...</td>\n",
              "      <td>...</td>\n",
              "      <td>...</td>\n",
              "      <td>...</td>\n",
              "      <td>...</td>\n",
              "      <td>...</td>\n",
              "    </tr>\n",
              "    <tr>\n",
              "      <th>302</th>\n",
              "      <td>302</td>\n",
              "      <td>Austin Haas</td>\n",
              "      <td>United States of America</td>\n",
              "      <td>Columbus</td>\n",
              "      <td>39.96</td>\n",
              "      <td>-83.00</td>\n",
              "      <td>M</td>\n",
              "      <td>NaN</td>\n",
              "      <td>20</td>\n",
              "      <td>3.6</td>\n",
              "      <td>3.7</td>\n",
              "      <td>3.1</td>\n",
              "      <td>5.0</td>\n",
              "      <td>4</td>\n",
              "      <td>5.0</td>\n",
              "      <td>5</td>\n",
              "    </tr>\n",
              "    <tr>\n",
              "      <th>303</th>\n",
              "      <td>303</td>\n",
              "      <td>Madison Fithian</td>\n",
              "      <td>United States of America</td>\n",
              "      <td>Los Angeles</td>\n",
              "      <td>34.05</td>\n",
              "      <td>-118.24</td>\n",
              "      <td>F</td>\n",
              "      <td>NaN</td>\n",
              "      <td>20</td>\n",
              "      <td>3.6</td>\n",
              "      <td>3.9</td>\n",
              "      <td>4.0</td>\n",
              "      <td>5.0</td>\n",
              "      <td>5</td>\n",
              "      <td>5.0</td>\n",
              "      <td>3</td>\n",
              "    </tr>\n",
              "    <tr>\n",
              "      <th>304</th>\n",
              "      <td>304</td>\n",
              "      <td>Zachary Mulvahill</td>\n",
              "      <td>United States of America</td>\n",
              "      <td>Los Angeles</td>\n",
              "      <td>34.05</td>\n",
              "      <td>-118.24</td>\n",
              "      <td>M</td>\n",
              "      <td>NaN</td>\n",
              "      <td>20</td>\n",
              "      <td>3.2</td>\n",
              "      <td>3.4</td>\n",
              "      <td>3.9</td>\n",
              "      <td>5.0</td>\n",
              "      <td>5</td>\n",
              "      <td>5.0</td>\n",
              "      <td>3</td>\n",
              "    </tr>\n",
              "    <tr>\n",
              "      <th>305</th>\n",
              "      <td>305</td>\n",
              "      <td>Eliana Michelsen</td>\n",
              "      <td>United States of America</td>\n",
              "      <td>Oakland</td>\n",
              "      <td>37.80</td>\n",
              "      <td>-122.27</td>\n",
              "      <td>F</td>\n",
              "      <td>NaN</td>\n",
              "      <td>23</td>\n",
              "      <td>3.0</td>\n",
              "      <td>2.8</td>\n",
              "      <td>2.9</td>\n",
              "      <td>5.0</td>\n",
              "      <td>4</td>\n",
              "      <td>4.0</td>\n",
              "      <td>5</td>\n",
              "    </tr>\n",
              "    <tr>\n",
              "      <th>306</th>\n",
              "      <td>306</td>\n",
              "      <td>Dane Whittemore</td>\n",
              "      <td>Canada</td>\n",
              "      <td>Toronto</td>\n",
              "      <td>43.67</td>\n",
              "      <td>-79.42</td>\n",
              "      <td>M</td>\n",
              "      <td>NaN</td>\n",
              "      <td>21</td>\n",
              "      <td>3.8</td>\n",
              "      <td>3.2</td>\n",
              "      <td>4.0</td>\n",
              "      <td>5.0</td>\n",
              "      <td>5</td>\n",
              "      <td>4.0</td>\n",
              "      <td>5</td>\n",
              "    </tr>\n",
              "  </tbody>\n",
              "</table>\n",
              "<p>307 rows × 16 columns</p>\n",
              "</div>\n",
              "      <button class=\"colab-df-convert\" onclick=\"convertToInteractive('df-fa08e7cb-d757-4660-9de8-65562a8934c8')\"\n",
              "              title=\"Convert this dataframe to an interactive table.\"\n",
              "              style=\"display:none;\">\n",
              "        \n",
              "  <svg xmlns=\"http://www.w3.org/2000/svg\" height=\"24px\"viewBox=\"0 0 24 24\"\n",
              "       width=\"24px\">\n",
              "    <path d=\"M0 0h24v24H0V0z\" fill=\"none\"/>\n",
              "    <path d=\"M18.56 5.44l.94 2.06.94-2.06 2.06-.94-2.06-.94-.94-2.06-.94 2.06-2.06.94zm-11 1L8.5 8.5l.94-2.06 2.06-.94-2.06-.94L8.5 2.5l-.94 2.06-2.06.94zm10 10l.94 2.06.94-2.06 2.06-.94-2.06-.94-.94-2.06-.94 2.06-2.06.94z\"/><path d=\"M17.41 7.96l-1.37-1.37c-.4-.4-.92-.59-1.43-.59-.52 0-1.04.2-1.43.59L10.3 9.45l-7.72 7.72c-.78.78-.78 2.05 0 2.83L4 21.41c.39.39.9.59 1.41.59.51 0 1.02-.2 1.41-.59l7.78-7.78 2.81-2.81c.8-.78.8-2.07 0-2.86zM5.41 20L4 18.59l7.72-7.72 1.47 1.35L5.41 20z\"/>\n",
              "  </svg>\n",
              "      </button>\n",
              "      \n",
              "  <style>\n",
              "    .colab-df-container {\n",
              "      display:flex;\n",
              "      flex-wrap:wrap;\n",
              "      gap: 12px;\n",
              "    }\n",
              "\n",
              "    .colab-df-convert {\n",
              "      background-color: #E8F0FE;\n",
              "      border: none;\n",
              "      border-radius: 50%;\n",
              "      cursor: pointer;\n",
              "      display: none;\n",
              "      fill: #1967D2;\n",
              "      height: 32px;\n",
              "      padding: 0 0 0 0;\n",
              "      width: 32px;\n",
              "    }\n",
              "\n",
              "    .colab-df-convert:hover {\n",
              "      background-color: #E2EBFA;\n",
              "      box-shadow: 0px 1px 2px rgba(60, 64, 67, 0.3), 0px 1px 3px 1px rgba(60, 64, 67, 0.15);\n",
              "      fill: #174EA6;\n",
              "    }\n",
              "\n",
              "    [theme=dark] .colab-df-convert {\n",
              "      background-color: #3B4455;\n",
              "      fill: #D2E3FC;\n",
              "    }\n",
              "\n",
              "    [theme=dark] .colab-df-convert:hover {\n",
              "      background-color: #434B5C;\n",
              "      box-shadow: 0px 1px 3px 1px rgba(0, 0, 0, 0.15);\n",
              "      filter: drop-shadow(0px 1px 2px rgba(0, 0, 0, 0.3));\n",
              "      fill: #FFFFFF;\n",
              "    }\n",
              "  </style>\n",
              "\n",
              "      <script>\n",
              "        const buttonEl =\n",
              "          document.querySelector('#df-fa08e7cb-d757-4660-9de8-65562a8934c8 button.colab-df-convert');\n",
              "        buttonEl.style.display =\n",
              "          google.colab.kernel.accessAllowed ? 'block' : 'none';\n",
              "\n",
              "        async function convertToInteractive(key) {\n",
              "          const element = document.querySelector('#df-fa08e7cb-d757-4660-9de8-65562a8934c8');\n",
              "          const dataTable =\n",
              "            await google.colab.kernel.invokeFunction('convertToInteractive',\n",
              "                                                     [key], {});\n",
              "          if (!dataTable) return;\n",
              "\n",
              "          const docLinkHtml = 'Like what you see? Visit the ' +\n",
              "            '<a target=\"_blank\" href=https://colab.research.google.com/notebooks/data_table.ipynb>data table notebook</a>'\n",
              "            + ' to learn more about interactive tables.';\n",
              "          element.innerHTML = '';\n",
              "          dataTable['output_type'] = 'display_data';\n",
              "          await google.colab.output.renderOutput(dataTable, element);\n",
              "          const docLink = document.createElement('div');\n",
              "          docLink.innerHTML = docLinkHtml;\n",
              "          element.appendChild(docLink);\n",
              "        }\n",
              "      </script>\n",
              "    </div>\n",
              "  </div>\n",
              "  "
            ]
          },
          "metadata": {},
          "execution_count": 1
        }
      ],
      "source": [
        "#MINI PROJECT 1 \n",
        "#Take any dataset of your choice and perform Exploratory Data Analysis(EDA)\n",
        "#1.create dataframe\n",
        "import pandas as pd \n",
        "df=pd.read_csv('https://raw.githubusercontent.com/ShapeLab/ZooidsCompositePhysicalizations/master/Zooid_Vis/bin/data/student-dataset.csv')\n",
        "df"
      ]
    },
    {
      "cell_type": "code",
      "source": [],
      "metadata": {
        "id": "VJud4caD2qz3"
      },
      "execution_count": null,
      "outputs": []
    },
    {
      "cell_type": "markdown",
      "source": [],
      "metadata": {
        "id": "weMO_ZNh2rvx"
      }
    },
    {
      "cell_type": "code",
      "source": [],
      "metadata": {
        "id": "sa2QTVZm2sWx"
      },
      "execution_count": null,
      "outputs": []
    },
    {
      "cell_type": "code",
      "source": [
        "df.info() #gives us the information about dataframe."
      ],
      "metadata": {
        "colab": {
          "base_uri": "https://localhost:8080/"
        },
        "id": "2LLruHP5dVK2",
        "outputId": "d2379b14-16ad-4cf7-d81c-696917ac42c7"
      },
      "execution_count": null,
      "outputs": [
        {
          "output_type": "stream",
          "name": "stdout",
          "text": [
            "<class 'pandas.core.frame.DataFrame'>\n",
            "RangeIndex: 307 entries, 0 to 306\n",
            "Data columns (total 16 columns):\n",
            " #   Column              Non-Null Count  Dtype  \n",
            "---  ------              --------------  -----  \n",
            " 0   id                  307 non-null    int64  \n",
            " 1   name                307 non-null    object \n",
            " 2   nationality         307 non-null    object \n",
            " 3   city                307 non-null    object \n",
            " 4   latitude            307 non-null    float64\n",
            " 5   longitude           307 non-null    float64\n",
            " 6   gender              307 non-null    object \n",
            " 7   ethnic.group        0 non-null      float64\n",
            " 8   age                 307 non-null    int64  \n",
            " 9   english.grade       307 non-null    float64\n",
            " 10  math.grade          307 non-null    float64\n",
            " 11  sciences.grade      307 non-null    float64\n",
            " 12  language.grade      307 non-null    float64\n",
            " 13  portfolio.rating    307 non-null    int64  \n",
            " 14  coverletter.rating  307 non-null    float64\n",
            " 15  refletter.rating    307 non-null    int64  \n",
            "dtypes: float64(8), int64(4), object(4)\n",
            "memory usage: 38.5+ KB\n"
          ]
        }
      ]
    },
    {
      "cell_type": "code",
      "source": [
        "df.shape #307 rows and 13 cols."
      ],
      "metadata": {
        "colab": {
          "base_uri": "https://localhost:8080/"
        },
        "id": "vYOguaAldxBc",
        "outputId": "85dc4dbf-38cd-45c9-aeea-2763634b4010"
      },
      "execution_count": null,
      "outputs": [
        {
          "output_type": "execute_result",
          "data": {
            "text/plain": [
              "(307, 16)"
            ]
          },
          "metadata": {},
          "execution_count": 15
        }
      ]
    },
    {
      "cell_type": "code",
      "source": [
        "df.size #total number of elements in my dataframe."
      ],
      "metadata": {
        "colab": {
          "base_uri": "https://localhost:8080/"
        },
        "id": "lmcSsP51eGu9",
        "outputId": "05400ce8-9a55-40a1-aaa2-b5216f2f5367"
      },
      "execution_count": null,
      "outputs": [
        {
          "output_type": "execute_result",
          "data": {
            "text/plain": [
              "4912"
            ]
          },
          "metadata": {},
          "execution_count": 19
        }
      ]
    },
    {
      "cell_type": "code",
      "source": [
        "df.isnull().sum() #to check the null values or missing value."
      ],
      "metadata": {
        "colab": {
          "base_uri": "https://localhost:8080/"
        },
        "id": "Jkpl86yXeMXV",
        "outputId": "f1d06efe-5226-406d-fc6c-0abd597d47c5"
      },
      "execution_count": null,
      "outputs": [
        {
          "output_type": "execute_result",
          "data": {
            "text/plain": [
              "id                      0\n",
              "name                    0\n",
              "nationality             0\n",
              "city                    0\n",
              "latitude                0\n",
              "longitude               0\n",
              "gender                  0\n",
              "ethnic.group          307\n",
              "age                     0\n",
              "english.grade           0\n",
              "math.grade              0\n",
              "sciences.grade          0\n",
              "language.grade          0\n",
              "portfolio.rating        0\n",
              "coverletter.rating      0\n",
              "refletter.rating        0\n",
              "dtype: int64"
            ]
          },
          "metadata": {},
          "execution_count": 34
        }
      ]
    },
    {
      "cell_type": "code",
      "source": [
        "#visulisation\n",
        "import seaborn as sns\n",
        "sns.countplot(x='age',data=df)"
      ],
      "metadata": {
        "colab": {
          "base_uri": "https://localhost:8080/",
          "height": 466
        },
        "id": "RLv-UCk2elVc",
        "outputId": "3efed73d-5ab1-4d92-e9a2-5598cbf1cafb"
      },
      "execution_count": null,
      "outputs": [
        {
          "output_type": "execute_result",
          "data": {
            "text/plain": [
              "<Axes: xlabel='age', ylabel='count'>"
            ]
          },
          "metadata": {},
          "execution_count": 34
        },
        {
          "output_type": "display_data",
          "data": {
            "text/plain": [
              "<Figure size 640x480 with 1 Axes>"
            ],
            "image/png": "[encoded data removed]"
          },
          "metadata": {}
        }
      ]
    },
    {
      "cell_type": "code",
      "source": [
        "df.groupby('gender').size() #this count plot will tell us how many males and females students were student dataset."
      ],
      "metadata": {
        "colab": {
          "base_uri": "https://localhost:8080/"
        },
        "id": "DMuKaaN1j_OP",
        "outputId": "1a8fa50e-18ed-4a7c-8ef5-3e24b767e912"
      },
      "execution_count": null,
      "outputs": [
        {
          "output_type": "execute_result",
          "data": {
            "text/plain": [
              "gender\n",
              "F        152\n",
              "M        151\n",
              "other      4\n",
              "dtype: int64"
            ]
          },
          "metadata": {},
          "execution_count": 37
        }
      ]
    },
    {
      "cell_type": "code",
      "source": [
        "sns.countplot(x='gender',data=df) #finding out the exact count of males and females students in student dataset."
      ],
      "metadata": {
        "colab": {
          "base_uri": "https://localhost:8080/",
          "height": 466
        },
        "id": "k3YdQxvxlPZY",
        "outputId": "cdf3757c-a414-43ba-a810-d917c7fc2849"
      },
      "execution_count": null,
      "outputs": [
        {
          "output_type": "execute_result",
          "data": {
            "text/plain": [
              "<Axes: xlabel='gender', ylabel='count'>"
            ]
          },
          "metadata": {},
          "execution_count": 38
        },
        {
          "output_type": "display_data",
          "data": {
            "text/plain": [
              "<Figure size 640x480 with 1 Axes>"
            ],
            "image/png": "[encoded data removed]"
          },
          "metadata": {}
        }
      ]
    },
    {
      "cell_type": "code",
      "source": [
        "import numpy as np # i want to find out maximum marks scored in english.\n",
        "np.max(df['english.grade'])"
      ],
      "metadata": {
        "colab": {
          "base_uri": "https://localhost:8080/"
        },
        "id": "tvXlEXd6m6-e",
        "outputId": "e6c02320-ebcc-4680-aa7a-6745ec16a9b5"
      },
      "execution_count": null,
      "outputs": [
        {
          "output_type": "execute_result",
          "data": {
            "text/plain": [
              "4.0"
            ]
          },
          "metadata": {},
          "execution_count": 23
        }
      ]
    },
    {
      "cell_type": "code",
      "source": [
        "np.max(df['sciences.grade'])# i want to find out maximum marks scored in sciences."
      ],
      "metadata": {
        "colab": {
          "base_uri": "https://localhost:8080/"
        },
        "id": "74fN8h52o8aA",
        "outputId": "d486e33b-2421-404e-e827-e750df4b9e3e"
      },
      "execution_count": null,
      "outputs": [
        {
          "output_type": "execute_result",
          "data": {
            "text/plain": [
              "4.0"
            ]
          },
          "metadata": {},
          "execution_count": 19
        }
      ]
    },
    {
      "cell_type": "code",
      "source": [
        "np.max(df['math.grade'])# i want to find out maximum marks scored in math."
      ],
      "metadata": {
        "colab": {
          "base_uri": "https://localhost:8080/"
        },
        "id": "-BBopPq8o8j3",
        "outputId": "9ad8160e-3925-4389-b998-26b38ea51d33"
      },
      "execution_count": null,
      "outputs": [
        {
          "output_type": "execute_result",
          "data": {
            "text/plain": [
              "4.0"
            ]
          },
          "metadata": {},
          "execution_count": 20
        }
      ]
    },
    {
      "cell_type": "code",
      "source": [
        "np.max(df['language.grade'])# i want to find out maximum marks scored in languages."
      ],
      "metadata": {
        "colab": {
          "base_uri": "https://localhost:8080/"
        },
        "id": "zAZQSb63o8qq",
        "outputId": "0dfaae41-6153-46e8-b07f-c2820b614b22"
      },
      "execution_count": null,
      "outputs": [
        {
          "output_type": "execute_result",
          "data": {
            "text/plain": [
              "5.0"
            ]
          },
          "metadata": {},
          "execution_count": 21
        }
      ]
    },
    {
      "cell_type": "code",
      "source": [
        "np.min(df['english.grade'])# i want to find out minimum marks scored in english."
      ],
      "metadata": {
        "colab": {
          "base_uri": "https://localhost:8080/"
        },
        "id": "4xI-ks4po84B",
        "outputId": "cd634217-4db9-4435-d788-133598e02db0"
      },
      "execution_count": null,
      "outputs": [
        {
          "output_type": "execute_result",
          "data": {
            "text/plain": [
              "1.5"
            ]
          },
          "metadata": {},
          "execution_count": 22
        }
      ]
    },
    {
      "cell_type": "code",
      "source": [
        "np.min(df['sciences.grade'])# i want to find out minimum marks scored in sciences."
      ],
      "metadata": {
        "colab": {
          "base_uri": "https://localhost:8080/"
        },
        "id": "IT2xnHwWpUjm",
        "outputId": "39f2b17d-0b56-4e20-9b1f-252a186fbd19"
      },
      "execution_count": null,
      "outputs": [
        {
          "output_type": "execute_result",
          "data": {
            "text/plain": [
              "1.4"
            ]
          },
          "metadata": {},
          "execution_count": 24
        }
      ]
    },
    {
      "cell_type": "code",
      "source": [
        "np.min(df['math.grade'])# i want to find out minimum marks scored in math."
      ],
      "metadata": {
        "colab": {
          "base_uri": "https://localhost:8080/"
        },
        "id": "n3qAMmPnpUv-",
        "outputId": "40250b3d-b55b-4fe0-d610-a4338c937f71"
      },
      "execution_count": null,
      "outputs": [
        {
          "output_type": "execute_result",
          "data": {
            "text/plain": [
              "2.1"
            ]
          },
          "metadata": {},
          "execution_count": 25
        }
      ]
    },
    {
      "cell_type": "code",
      "source": [
        "np.min(df['language.grade'])# i want to find out minimum marks scored in languages."
      ],
      "metadata": {
        "colab": {
          "base_uri": "https://localhost:8080/"
        },
        "id": "8K-VhyVhpU8K",
        "outputId": "4fbae0e2-83d3-4f73-d792-7aeab7212abb"
      },
      "execution_count": null,
      "outputs": [
        {
          "output_type": "execute_result",
          "data": {
            "text/plain": [
              "1.0"
            ]
          },
          "metadata": {},
          "execution_count": 26
        }
      ]
    },
    {
      "cell_type": "code",
      "source": [
        "#visulisation\n",
        "import seaborn as sns\n",
        "sns.countplot(y='nationality',data=df)"
      ],
      "metadata": {
        "colab": {
          "base_uri": "https://localhost:8080/",
          "height": 466
        },
        "id": "-Xe3HyouqiAh",
        "outputId": "7d9ef25e-4f9d-416e-c639-ad9e0c0cc074"
      },
      "execution_count": null,
      "outputs": [
        {
          "output_type": "execute_result",
          "data": {
            "text/plain": [
              "<Axes: xlabel='count', ylabel='nationality'>"
            ]
          },
          "metadata": {},
          "execution_count": 6
        },
        {
          "output_type": "display_data",
          "data": {
            "text/plain": [
              "<Figure size 640x480 with 1 Axes>"
            ],
            "image/png": "[encoded data removed]"
          },
          "metadata": {}
        }
      ]
    },
    {
      "cell_type": "code",
      "source": [
        "sns.displot(df['english.grade']) #distribution plot of english grade."
      ],
      "metadata": {
        "colab": {
          "base_uri": "https://localhost:8080/",
          "height": 524
        },
        "id": "_MBe7JmcyWND",
        "outputId": "bfb7bf5f-370b-4b0e-81c3-b8ad3ab98591"
      },
      "execution_count": null,
      "outputs": [
        {
          "output_type": "execute_result",
          "data": {
            "text/plain": [
              "<seaborn.axisgrid.FacetGrid at 0x7fcdc76ac3d0>"
            ]
          },
          "metadata": {},
          "execution_count": 24
        },
        {
          "output_type": "display_data",
          "data": {
            "text/plain": [
              "<Figure size 500x500 with 1 Axes>"
            ],
            "image/png": "[encoded data removed]"
          },
          "metadata": {}
        }
      ]
    },
    {
      "cell_type": "code",
      "source": [
        "sns.displot(df['math.grade']) #distribution plot of math grade."
      ],
      "metadata": {
        "colab": {
          "base_uri": "https://localhost:8080/",
          "height": 523
        },
        "id": "9b9MWogZ4ISV",
        "outputId": "9f7fdee8-b836-44fb-d82b-7e7423ad7ae4"
      },
      "execution_count": null,
      "outputs": [
        {
          "output_type": "execute_result",
          "data": {
            "text/plain": [
              "<seaborn.axisgrid.FacetGrid at 0x7fcdc776f940>"
            ]
          },
          "metadata": {},
          "execution_count": 25
        },
        {
          "output_type": "display_data",
          "data": {
            "text/plain": [
              "<Figure size 500x500 with 1 Axes>"
            ],
            "image/png": "[encoded data removed]"
          },
          "metadata": {}
        }
      ]
    },
    {
      "cell_type": "code",
      "source": [
        "sns.displot(df['sciences.grade']) #distribution plot of sciences grade."
      ],
      "metadata": {
        "colab": {
          "base_uri": "https://localhost:8080/",
          "height": 523
        },
        "id": "BhSEsVdf4dlG",
        "outputId": "a41ab0bb-64bd-483e-8cae-d5a075c11010"
      },
      "execution_count": null,
      "outputs": [
        {
          "output_type": "execute_result",
          "data": {
            "text/plain": [
              "<seaborn.axisgrid.FacetGrid at 0x7fcdc8142830>"
            ]
          },
          "metadata": {},
          "execution_count": 26
        },
        {
          "output_type": "display_data",
          "data": {
            "text/plain": [
              "<Figure size 500x500 with 1 Axes>"
            ],
            "image/png": "[encoded data removed]"
          },
          "metadata": {}
        }
      ]
    },
    {
      "cell_type": "code",
      "source": [
        "sns.displot(df['language.grade']) #distribution plot of language grade."
      ],
      "metadata": {
        "colab": {
          "base_uri": "https://localhost:8080/",
          "height": 523
        },
        "id": "qJzMm7f54m1x",
        "outputId": "50da4bd4-501a-4717-99be-05c170cfcb22"
      },
      "execution_count": null,
      "outputs": [
        {
          "output_type": "execute_result",
          "data": {
            "text/plain": [
              "<seaborn.axisgrid.FacetGrid at 0x7fcdc7590f40>"
            ]
          },
          "metadata": {},
          "execution_count": 28
        },
        {
          "output_type": "display_data",
          "data": {
            "text/plain": [
              "<Figure size 500x500 with 1 Axes>"
            ],
            "image/png": "[encoded data removed]"
          },
          "metadata": {}
        }
      ]
    },
    {
      "cell_type": "code",
      "source": [
        "sns.displot(df['coverletter.rating']) #distribution plot of coverletter rating."
      ],
      "metadata": {
        "colab": {
          "base_uri": "https://localhost:8080/",
          "height": 523
        },
        "id": "m8zwo3N_4wiE",
        "outputId": "0c5e4188-934a-49db-f4c1-49ff7cbf2400"
      },
      "execution_count": null,
      "outputs": [
        {
          "output_type": "execute_result",
          "data": {
            "text/plain": [
              "<seaborn.axisgrid.FacetGrid at 0x7fcdc77afa60>"
            ]
          },
          "metadata": {},
          "execution_count": 29
        },
        {
          "output_type": "display_data",
          "data": {
            "text/plain": [
              "<Figure size 500x500 with 1 Axes>"
            ],
            "image/png": "[encoded data removed]"
          },
          "metadata": {}
        }
      ]
    },
    {
      "cell_type": "code",
      "source": [
        "sns.displot(df['portfolio.rating']) #distribution plot of portfolio rating."
      ],
      "metadata": {
        "colab": {
          "base_uri": "https://localhost:8080/",
          "height": 524
        },
        "id": "fELCiY6z457g",
        "outputId": "dd3128b5-e94d-4ef0-8f28-dcf7fc9a9328"
      },
      "execution_count": null,
      "outputs": [
        {
          "output_type": "execute_result",
          "data": {
            "text/plain": [
              "<seaborn.axisgrid.FacetGrid at 0x7fcdc7172650>"
            ]
          },
          "metadata": {},
          "execution_count": 31
        },
        {
          "output_type": "display_data",
          "data": {
            "text/plain": [
              "<Figure size 500x500 with 1 Axes>"
            ],
            "image/png": "[encoded data removed]"
          },
          "metadata": {}
        }
      ]
    },
    {
      "cell_type": "code",
      "source": [
        "sns.displot(df['refletter.rating']) #distribution plot of refletter rating."
      ],
      "metadata": {
        "colab": {
          "base_uri": "https://localhost:8080/",
          "height": 523
        },
        "id": "sHK7RapK5kvg",
        "outputId": "93da3445-0a65-45bb-8127-9bbe47ca9f72"
      },
      "execution_count": null,
      "outputs": [
        {
          "output_type": "execute_result",
          "data": {
            "text/plain": [
              "<seaborn.axisgrid.FacetGrid at 0x7fcdc745bb20>"
            ]
          },
          "metadata": {},
          "execution_count": 32
        },
        {
          "output_type": "display_data",
          "data": {
            "text/plain": [
              "<Figure size 500x500 with 1 Axes>"
            ],
            "image/png": "[encoded data removed]"
          },
          "metadata": {}
        }
      ]
    }
  ]
}