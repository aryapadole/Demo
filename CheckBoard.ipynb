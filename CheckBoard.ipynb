{
 "cells": [
  {
   "cell_type": "code",
   "execution_count": 6,
   "id": "a422d240",
   "metadata": {},
   "outputs": [],
   "source": [
    "import numpy as np\n",
    "import cv2\n",
    "\n",
    "img=np.zeros((800,800,3))\n",
    "img[0:100,0:100]=255,255,255\n",
    "img[100:200,100:200]=255,255,255\n",
    "\n",
    "img[0:100,200:300]=255,255,255\n",
    "img[200:300,0:100]=255,255,255\n",
    "img[200:300,200:300]=255,255,255\n",
    "\n",
    "img[100:200,300:400]=255,255,255\n",
    "img[300:400,100:200]=255,255,255\n",
    "img[300:400,300:400]=255,255,255\n",
    "\n",
    "img[0:100,400:500]=255,255,255\n",
    "img[400:500,0:100]=255,255,255\n",
    "img[400:500,400:500]=255,255,255\n",
    "\n",
    "img[400:500,200:300]=255,255,255\n",
    "img[200:300,400:500]=255,255,255\n",
    "img[400:500,400:500]=255,255,255\n",
    "\n",
    "img[500:600,100:200]=255,255,255\n",
    "img[100:200,500:600]=255,255,255\n",
    "img[500:600,500:600]=255,255,255\n",
    "\n",
    "img[500:600,300:400]=255,255,255\n",
    "img[300:400,500:600]=255,255,255\n",
    "img[500:600,500:600]=255,255,255\n",
    "\n",
    "img[600:700,0:100]=255,255,255\n",
    "img[0:100,600:700]=255,255,255\n",
    "img[600:700,600:700]=255,255,255\n",
    "\n",
    "img[200:300,600:700]=255,255,255\n",
    "img[600:700,200:300]=255,255,255\n",
    "img[600:700,600:700]=255,255,255\n",
    "\n",
    "img[700:800,100:200]=255,255,255\n",
    "img[100:200,700:800]=255,255,255\n",
    "img[700:800,700:800]=255,255,255\n",
    "\n",
    "img[700:800,300:400]=255,255,255\n",
    "img[300:400,700:800]=255,255,255\n",
    "img[700:800,700:800]=255,255,255\n",
    "\n",
    "\n",
    "cv2.imshow('checker board',img)\n",
    "cv2.waitKey(0)\n",
    "cv2.destroyAllWindows()"
   ]
  },
  {
   "cell_type": "code",
   "execution_count": 7,
   "id": "82fdd2d1",
   "metadata": {},
   "outputs": [],
   "source": [
    "import numpy as np\n",
    "import cv2\n",
    "\n",
    "img = np.zeros((800, 800, 3))\n",
    "\n",
    "for i in range(0, 800, 100):\n",
    "    for j in range(0, 800, 100):\n",
    "        if (i // 100) % 2 == (j // 100) % 2:\n",
    "            img[i:i+100, j:j+100] = 255, 255, 255\n",
    "\n",
    "cv2.imshow('checkerboard', img)\n",
    "cv2.waitKey(0)\n",
    "cv2.destroyAllWindows()"
   ]
  },
  {
   "cell_type": "code",
   "execution_count": null,
   "id": "04fffc68",
   "metadata": {},
   "outputs": [],
   "source": []
  }
 ],
 "metadata": {
  "kernelspec": {
   "display_name": "Python 3 (ipykernel)",
   "language": "python",
   "name": "python3"
  },
  "language_info": {
   "codemirror_mode": {
    "name": "ipython",
    "version": 3
   },
   "file_extension": ".py",
   "mimetype": "text/x-python",
   "name": "python",
   "nbconvert_exporter": "python",
   "pygments_lexer": "ipython3",
   "version": "3.9.12"
  }
 },
 "nbformat": 4,
 "nbformat_minor": 5
}
